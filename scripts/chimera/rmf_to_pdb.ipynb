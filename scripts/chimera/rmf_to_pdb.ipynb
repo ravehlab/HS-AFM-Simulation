{
 "cells": [
  {
   "cell_type": "code",
   "execution_count": 1,
   "metadata": {},
   "outputs": [
    {
     "name": "stdout",
     "output_type": "stream",
     "text": [
      "Reading /cs/usr/roi.eliasian/LabFolder/NpcTransportExperiment/HS-AFM-Dataset/dataset/mini_0uM_10ns/1/120000.movie.rmf\n",
      "[[fg0_C(representation, n3), fg0_C(representation, n5), fg0_C(representation, n7), fg0_C(representation, n9), fg0_C(representation, n11), fg0_C(representation, n13), fg0_C(representation, n15), fg0_C(representation, n17), fg0_C(representation, n19), fg0_C(representation, n21), fg0_C(representation, n23), fg0_C(representation, n25), fg0_N(representation, n27), fg0_N(representation, n29), fg0_N(representation, n31), fg0_N(representation, n33)]]\n",
      "[[fg1_C(representation, n37), fg1_C(representation, n39), fg1_C(representation, n41), fg1_C(representation, n43), fg1_C(representation, n45), fg1_C(representation, n47), fg1_C(representation, n49), fg1_C(representation, n51), fg1_C(representation, n53), fg1_C(representation, n55), fg1_C(representation, n57), fg1_C(representation, n59), fg1_N(representation, n61), fg1_N(representation, n63), fg1_N(representation, n65), fg1_N(representation, n67)]]\n",
      "[[fg2_C(representation, n71), fg2_C(representation, n73), fg2_C(representation, n75), fg2_C(representation, n77), fg2_C(representation, n79), fg2_C(representation, n81), fg2_C(representation, n83), fg2_C(representation, n85), fg2_C(representation, n87), fg2_C(representation, n89), fg2_C(representation, n91), fg2_C(representation, n93), fg2_N(representation, n95), fg2_N(representation, n97), fg2_N(representation, n99), fg2_N(representation, n101)]]\n",
      "[[fg3_C(representation, n105), fg3_C(representation, n107), fg3_C(representation, n109), fg3_C(representation, n111), fg3_C(representation, n113), fg3_C(representation, n115), fg3_C(representation, n117), fg3_C(representation, n119), fg3_C(representation, n121), fg3_C(representation, n123), fg3_C(representation, n125), fg3_C(representation, n127), fg3_N(representation, n129), fg3_N(representation, n131), fg3_N(representation, n133), fg3_N(representation, n135)]]\n",
      "[[fg4_C(representation, n139), fg4_C(representation, n141), fg4_C(representation, n143), fg4_C(representation, n145), fg4_C(representation, n147), fg4_C(representation, n149), fg4_C(representation, n151), fg4_C(representation, n153), fg4_C(representation, n155), fg4_C(representation, n157), fg4_C(representation, n159), fg4_C(representation, n161), fg4_N(representation, n163), fg4_N(representation, n165), fg4_N(representation, n167), fg4_N(representation, n169)]]\n",
      "[[fg5_C(representation, n173), fg5_C(representation, n175), fg5_C(representation, n177), fg5_C(representation, n179), fg5_C(representation, n181), fg5_C(representation, n183), fg5_C(representation, n185), fg5_C(representation, n187), fg5_C(representation, n189), fg5_C(representation, n191), fg5_C(representation, n193), fg5_C(representation, n195), fg5_N(representation, n197), fg5_N(representation, n199), fg5_N(representation, n201), fg5_N(representation, n203)]]\n",
      "[[fg6_C(representation, n207), fg6_C(representation, n209), fg6_C(representation, n211), fg6_C(representation, n213), fg6_C(representation, n215), fg6_C(representation, n217), fg6_C(representation, n219), fg6_C(representation, n221), fg6_C(representation, n223), fg6_C(representation, n225), fg6_C(representation, n227), fg6_C(representation, n229), fg6_N(representation, n231), fg6_N(representation, n233), fg6_N(representation, n235), fg6_N(representation, n237)]]\n",
      "[[fg7_C(representation, n241), fg7_C(representation, n243), fg7_C(representation, n245), fg7_C(representation, n247), fg7_C(representation, n249), fg7_C(representation, n251), fg7_C(representation, n253), fg7_C(representation, n255), fg7_C(representation, n257), fg7_C(representation, n259), fg7_C(representation, n261), fg7_C(representation, n263), fg7_N(representation, n265), fg7_N(representation, n267), fg7_N(representation, n269), fg7_N(representation, n271)]]\n",
      "[[fg8_C(representation, n275), fg8_C(representation, n277), fg8_C(representation, n279), fg8_C(representation, n281), fg8_C(representation, n283), fg8_C(representation, n285), fg8_C(representation, n287), fg8_C(representation, n289), fg8_C(representation, n291), fg8_C(representation, n293), fg8_C(representation, n295), fg8_C(representation, n297), fg8_N(representation, n299), fg8_N(representation, n301), fg8_N(representation, n303), fg8_N(representation, n305)]]\n",
      "[[fg9_C(representation, n309), fg9_C(representation, n311), fg9_C(representation, n313), fg9_C(representation, n315), fg9_C(representation, n317), fg9_C(representation, n319), fg9_C(representation, n321), fg9_C(representation, n323), fg9_C(representation, n325), fg9_C(representation, n327), fg9_C(representation, n329), fg9_C(representation, n331), fg9_N(representation, n333), fg9_N(representation, n335), fg9_N(representation, n337), fg9_N(representation, n339)]]\n",
      "[[fg10_C(representation, n343), fg10_C(representation, n345), fg10_C(representation, n347), fg10_C(representation, n349), fg10_C(representation, n351), fg10_C(representation, n353), fg10_C(representation, n355), fg10_C(representation, n357), fg10_C(representation, n359), fg10_C(representation, n361), fg10_C(representation, n363), fg10_C(representation, n365), fg10_N(representation, n367), fg10_N(representation, n369), fg10_N(representation, n371), fg10_N(representation, n373)]]\n",
      "[[fg11_C(representation, n377), fg11_C(representation, n379), fg11_C(representation, n381), fg11_C(representation, n383), fg11_C(representation, n385), fg11_C(representation, n387), fg11_C(representation, n389), fg11_C(representation, n391), fg11_C(representation, n393), fg11_C(representation, n395), fg11_C(representation, n397), fg11_C(representation, n399), fg11_N(representation, n401), fg11_N(representation, n403), fg11_N(representation, n405), fg11_N(representation, n407)]]\n",
      "[[fg12_C(representation, n411), fg12_C(representation, n413), fg12_C(representation, n415), fg12_C(representation, n417), fg12_C(representation, n419), fg12_C(representation, n421), fg12_C(representation, n423), fg12_C(representation, n425), fg12_C(representation, n427), fg12_C(representation, n429), fg12_C(representation, n431), fg12_C(representation, n433), fg12_N(representation, n435), fg12_N(representation, n437), fg12_N(representation, n439), fg12_N(representation, n441)]]\n",
      "[[fg13_C(representation, n445), fg13_C(representation, n447), fg13_C(representation, n449), fg13_C(representation, n451), fg13_C(representation, n453), fg13_C(representation, n455), fg13_C(representation, n457), fg13_C(representation, n459), fg13_C(representation, n461), fg13_C(representation, n463), fg13_C(representation, n465), fg13_C(representation, n467), fg13_N(representation, n469), fg13_N(representation, n471), fg13_N(representation, n473), fg13_N(representation, n475)]]\n",
      "[[fg14_C(representation, n479), fg14_C(representation, n481), fg14_C(representation, n483), fg14_C(representation, n485), fg14_C(representation, n487), fg14_C(representation, n489), fg14_C(representation, n491), fg14_C(representation, n493), fg14_C(representation, n495), fg14_C(representation, n497), fg14_C(representation, n499), fg14_C(representation, n501), fg14_N(representation, n503), fg14_N(representation, n505), fg14_N(representation, n507), fg14_N(representation, n509)]]\n",
      "[[fg15_C(representation, n513), fg15_C(representation, n515), fg15_C(representation, n517), fg15_C(representation, n519), fg15_C(representation, n521), fg15_C(representation, n523), fg15_C(representation, n525), fg15_C(representation, n527), fg15_C(representation, n529), fg15_C(representation, n531), fg15_C(representation, n533), fg15_C(representation, n535), fg15_N(representation, n537), fg15_N(representation, n539), fg15_N(representation, n541), fg15_N(representation, n543)]]\n",
      "[[fg16_C(representation, n547), fg16_C(representation, n549), fg16_C(representation, n551), fg16_C(representation, n553), fg16_C(representation, n555), fg16_C(representation, n557), fg16_C(representation, n559), fg16_C(representation, n561), fg16_C(representation, n563), fg16_C(representation, n565), fg16_C(representation, n567), fg16_C(representation, n569), fg16_N(representation, n571), fg16_N(representation, n573), fg16_N(representation, n575), fg16_N(representation, n577)]]\n",
      "[[fg17_C(representation, n581), fg17_C(representation, n583), fg17_C(representation, n585), fg17_C(representation, n587), fg17_C(representation, n589), fg17_C(representation, n591), fg17_C(representation, n593), fg17_C(representation, n595), fg17_C(representation, n597), fg17_C(representation, n599), fg17_C(representation, n601), fg17_C(representation, n603), fg17_N(representation, n605), fg17_N(representation, n607), fg17_N(representation, n609), fg17_N(representation, n611)]]\n",
      "[[fg18_C(representation, n615), fg18_C(representation, n617), fg18_C(representation, n619), fg18_C(representation, n621), fg18_C(representation, n623), fg18_C(representation, n625), fg18_C(representation, n627), fg18_C(representation, n629), fg18_C(representation, n631), fg18_C(representation, n633), fg18_C(representation, n635), fg18_C(representation, n637), fg18_N(representation, n639), fg18_N(representation, n641), fg18_N(representation, n643), fg18_N(representation, n645)]]\n",
      "[[fg19_C(representation, n649), fg19_C(representation, n651), fg19_C(representation, n653), fg19_C(representation, n655), fg19_C(representation, n657), fg19_C(representation, n659), fg19_C(representation, n661), fg19_C(representation, n663), fg19_C(representation, n665), fg19_C(representation, n667), fg19_C(representation, n669), fg19_C(representation, n671), fg19_N(representation, n673), fg19_N(representation, n675), fg19_N(representation, n677), fg19_N(representation, n679)]]\n",
      "[[fg20_C(representation, n683), fg20_C(representation, n685), fg20_C(representation, n687), fg20_C(representation, n689), fg20_C(representation, n691), fg20_C(representation, n693), fg20_C(representation, n695), fg20_C(representation, n697), fg20_C(representation, n699), fg20_C(representation, n701), fg20_C(representation, n703), fg20_C(representation, n705), fg20_N(representation, n707), fg20_N(representation, n709), fg20_N(representation, n711), fg20_N(representation, n713)]]\n",
      "[[fg21_C(representation, n717), fg21_C(representation, n719), fg21_C(representation, n721), fg21_C(representation, n723), fg21_C(representation, n725), fg21_C(representation, n727), fg21_C(representation, n729), fg21_C(representation, n731), fg21_C(representation, n733), fg21_C(representation, n735), fg21_C(representation, n737), fg21_C(representation, n739), fg21_N(representation, n741), fg21_N(representation, n743), fg21_N(representation, n745), fg21_N(representation, n747)]]\n",
      "[[fg22_C(representation, n751), fg22_C(representation, n753), fg22_C(representation, n755), fg22_C(representation, n757), fg22_C(representation, n759), fg22_C(representation, n761), fg22_C(representation, n763), fg22_C(representation, n765), fg22_C(representation, n767), fg22_C(representation, n769), fg22_C(representation, n771), fg22_C(representation, n773), fg22_N(representation, n775), fg22_N(representation, n777), fg22_N(representation, n779), fg22_N(representation, n781)]]\n",
      "[[fg23_C(representation, n785), fg23_C(representation, n787), fg23_C(representation, n789), fg23_C(representation, n791), fg23_C(representation, n793), fg23_C(representation, n795), fg23_C(representation, n797), fg23_C(representation, n799), fg23_C(representation, n801), fg23_C(representation, n803), fg23_C(representation, n805), fg23_C(representation, n807), fg23_N(representation, n809), fg23_N(representation, n811), fg23_N(representation, n813), fg23_N(representation, n815)]]\n",
      "[[fg24_C(representation, n819), fg24_C(representation, n821), fg24_C(representation, n823), fg24_C(representation, n825), fg24_C(representation, n827), fg24_C(representation, n829), fg24_C(representation, n831), fg24_C(representation, n833), fg24_C(representation, n835), fg24_C(representation, n837), fg24_C(representation, n839), fg24_C(representation, n841), fg24_N(representation, n843), fg24_N(representation, n845), fg24_N(representation, n847), fg24_N(representation, n849)]]\n",
      "[[fg25_C(representation, n853), fg25_C(representation, n855), fg25_C(representation, n857), fg25_C(representation, n859), fg25_C(representation, n861), fg25_C(representation, n863), fg25_C(representation, n865), fg25_C(representation, n867), fg25_C(representation, n869), fg25_C(representation, n871), fg25_C(representation, n873), fg25_C(representation, n875), fg25_N(representation, n877), fg25_N(representation, n879), fg25_N(representation, n881), fg25_N(representation, n883)]]\n",
      "[[fg26_C(representation, n887), fg26_C(representation, n889), fg26_C(representation, n891), fg26_C(representation, n893), fg26_C(representation, n895), fg26_C(representation, n897), fg26_C(representation, n899), fg26_C(representation, n901), fg26_C(representation, n903), fg26_C(representation, n905), fg26_C(representation, n907), fg26_C(representation, n909), fg26_N(representation, n911), fg26_N(representation, n913), fg26_N(representation, n915), fg26_N(representation, n917)]]\n",
      "[[fg27_C(representation, n921), fg27_C(representation, n923), fg27_C(representation, n925), fg27_C(representation, n927), fg27_C(representation, n929), fg27_C(representation, n931), fg27_C(representation, n933), fg27_C(representation, n935), fg27_C(representation, n937), fg27_C(representation, n939), fg27_C(representation, n941), fg27_C(representation, n943), fg27_N(representation, n945), fg27_N(representation, n947), fg27_N(representation, n949), fg27_N(representation, n951)]]\n",
      "[[fg28_C(representation, n955), fg28_C(representation, n957), fg28_C(representation, n959), fg28_C(representation, n961), fg28_C(representation, n963), fg28_C(representation, n965), fg28_C(representation, n967), fg28_C(representation, n969), fg28_C(representation, n971), fg28_C(representation, n973), fg28_C(representation, n975), fg28_C(representation, n977), fg28_N(representation, n979), fg28_N(representation, n981), fg28_N(representation, n983), fg28_N(representation, n985)]]\n",
      "[[fg29_C(representation, n989), fg29_C(representation, n991), fg29_C(representation, n993), fg29_C(representation, n995), fg29_C(representation, n997), fg29_C(representation, n999), fg29_C(representation, n1001), fg29_C(representation, n1003), fg29_C(representation, n1005), fg29_C(representation, n1007), fg29_C(representation, n1009), fg29_C(representation, n1011), fg29_N(representation, n1013), fg29_N(representation, n1015), fg29_N(representation, n1017), fg29_N(representation, n1019)]]\n",
      "[[fg30_C(representation, n1023), fg30_C(representation, n1025), fg30_C(representation, n1027), fg30_C(representation, n1029), fg30_C(representation, n1031), fg30_C(representation, n1033), fg30_C(representation, n1035), fg30_C(representation, n1037), fg30_C(representation, n1039), fg30_C(representation, n1041), fg30_C(representation, n1043), fg30_C(representation, n1045), fg30_N(representation, n1047), fg30_N(representation, n1049), fg30_N(representation, n1051), fg30_N(representation, n1053)]]\n",
      "[[fg31_C(representation, n1057), fg31_C(representation, n1059), fg31_C(representation, n1061), fg31_C(representation, n1063), fg31_C(representation, n1065), fg31_C(representation, n1067), fg31_C(representation, n1069), fg31_C(representation, n1071), fg31_C(representation, n1073), fg31_C(representation, n1075), fg31_C(representation, n1077), fg31_C(representation, n1079), fg31_N(representation, n1081), fg31_N(representation, n1083), fg31_N(representation, n1085), fg31_N(representation, n1087)]]\n",
      "Showing only first frame\n",
      "COMMENT writing frame f0 0\n"
     ]
    }
   ],
   "source": [
    "%%bash\n",
    "# Set parameters\n",
    "INPUT_RMF=/cs/usr/roi.eliasian/LabFolder/NpcTransportExperiment/HS-AFM-Dataset/dataset/mini_0uM_10ns/1/120000.movie.rmf\n",
    "REF_PB=/cs/usr/roi.eliasian/LabFolder/NpcTransportExperiment/HS-AFM-Dataset/dataset/mini_0uM_10ns/1/149000.pb\n",
    "OUTPUT_PDB=../../test.pdb\n",
    "\n",
    "# Setup IMP conda environment\n",
    "source /cs/labs/ravehb/roi.eliasian/miniconda3/etc/profile.d/conda.sh\n",
    "conda activate imp_conda\n",
    "\n",
    "# Run Scripts\n",
    "SCRIPT_PATH=/cs/usr/roi.eliasian/LabFolder/NpcTransportExperiment/HS-AFM-Simulation/scripts/chimera/NPC_rmf_to_pdb_v3.py\n",
    "python3 $SCRIPT_PATH --input_rmf $INPUT_RMF --ref_output $REF_PB --output_pdb $OUTPUT_PDB --skip_n_frames 0"
   ]
  }
 ],
 "metadata": {
  "kernelspec": {
   "display_name": "imp_conda",
   "language": "python",
   "name": "python3"
  },
  "language_info": {
   "codemirror_mode": {
    "name": "ipython",
    "version": 3
   },
   "file_extension": ".py",
   "mimetype": "text/x-python",
   "name": "python",
   "nbconvert_exporter": "python",
   "pygments_lexer": "ipython3",
   "version": "3.12.7"
  }
 },
 "nbformat": 4,
 "nbformat_minor": 2
}
