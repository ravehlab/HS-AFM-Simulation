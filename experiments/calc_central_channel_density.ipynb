{
 "cells": [
  {
   "cell_type": "code",
   "execution_count": 123,
   "metadata": {},
   "outputs": [],
   "source": [
    "# import dependencies\n",
    "import h5py\n",
    "import numpy as np\n",
    "import gzip\n",
    "import os"
   ]
  },
  {
   "cell_type": "code",
   "execution_count": 124,
   "metadata": {},
   "outputs": [],
   "source": [
    "HDF5_PATH = \"../density_test/634500.hdf5\"\n",
    "MIN_Z = 32\n",
    "MAX_Z = 48\n",
    "MIN_XY = 0\n",
    "MAX_XY = 80\n",
    "OUTER_CONSTRICTION_RADIUS = 18.5 #nm\n",
    "INNER_CONSTRICTION_RADIUS = 11 #nm\n",
    "N_BEADS = 512\n",
    "SLAB_WIDTH = 15 #nm\n",
    "FLOATER_RADIUS = 30 #A"
   ]
  },
  {
   "cell_type": "code",
   "execution_count": 125,
   "metadata": {},
   "outputs": [],
   "source": [
    "SINGLE_BEAD_MASS = 2.2 #kd\n",
    "# SINGLE_BEAD_MASS = 3.6531884400000005e-21 #g\n",
    "FLOATER_DENSITY = 27/8000 # kd/A^3\n",
    "half_torus_volume = (np.pi ** 2) * OUTER_CONSTRICTION_RADIUS * ((SLAB_WIDTH / 2) ** 2) #nm^3\n",
    "hourglass_volume = np.pi * (OUTER_CONSTRICTION_RADIUS ** 2) * SLAB_WIDTH - half_torus_volume #nm^3"
   ]
  },
  {
   "cell_type": "code",
   "execution_count": 126,
   "metadata": {},
   "outputs": [],
   "source": [
    "def get_fg_counts_maps(path, min_z=MIN_Z, max_z=MAX_Z):\n",
    "    with open(path, \"rb\") as f:\n",
    "        f = h5py.File(f, \"r\")\n",
    "        fg_data = f[\"fg_xyz_hist\"]\n",
    "        n_counts_maps = int(len(fg_data.keys()) / 2)\n",
    "        fg_counts_maps = np.zeros(shape=(MAX_XY - MIN_XY, MAX_XY - MIN_XY, max_z - min_z, n_counts_maps))\n",
    "        for i, key in enumerate(fg_data.keys()):\n",
    "            if i % 2 == 0:\n",
    "                fg_counts_maps[:, :, :, int(i / 2)] += np.array(fg_data[key][MIN_XY:MAX_XY,MIN_XY:MAX_XY,min_z:max_z])\n",
    "            else:\n",
    "                fg_counts_maps[:, :, :, int((i - 1) / 2)] += np.array(fg_data[key][MIN_XY:MAX_XY,MIN_XY:MAX_XY,min_z:max_z])\n",
    "        return fg_counts_maps\n",
    "                \n",
    "                \n",
    "def get_floater_counts_maps(path, min_z=MIN_Z, max_z=MAX_Z):\n",
    "    with open(path, \"rb\") as f:\n",
    "        f = h5py.File(f, \"r\")\n",
    "        floater_data = f[\"floater_xyz_hist\"]\n",
    "        n_counts_maps = len(floater_data.keys())\n",
    "        floater_counts_maps = np.zeros(shape=(MAX_XY - MIN_XY, MAX_XY - MIN_XY, max_z - min_z, n_counts_maps))\n",
    "        floater_sizes = []\n",
    "        for i, key in enumerate(floater_data.keys()):\n",
    "            floater_counts_maps[:, :, :, i] = np.array(floater_data[key][MIN_XY:MAX_XY,MIN_XY:MAX_XY,min_z:max_z])\n",
    "            # Get the size of the floater in angstrom according to its IMP type name.\n",
    "            size = int(float(''.join(map(str, list(filter(str.isdigit, key))))))\n",
    "            floater_sizes.append(size)\n",
    "        return floater_counts_maps, floater_sizes\n",
    "    \n",
    "def calc_normalization_factor(path):\n",
    "    fg_counts_maps = get_fg_counts_maps(path, 0, 80)\n",
    "    return np.sum(fg_counts_maps) / N_BEADS\n",
    "\n",
    "def calculate_fg_density(counts_maps, norm_factor):\n",
    "    # print(norm_factor)\n",
    "    beads_in_channel = np.sum(counts_maps) / norm_factor\n",
    "    total_mass = beads_in_channel * SINGLE_BEAD_MASS\n",
    "    density = total_mass / hourglass_volume\n",
    "    return density # kd / nm^3\n",
    "\n",
    "def calculate_floater_density(counts_maps, norm_factor):\n",
    "    # print(norm_factor)\n",
    "    floaters_in_channel = np.sum(counts_maps) / norm_factor\n",
    "    total_mass = floaters_in_channel * FLOATER_DENSITY * (FLOATER_RADIUS**3) \n",
    "    density = total_mass / hourglass_volume\n",
    "    return density # kd / nm^3"
   ]
  },
  {
   "cell_type": "code",
   "execution_count": 116,
   "metadata": {},
   "outputs": [
    {
     "name": "stdout",
     "output_type": "stream",
     "text": [
      "0 um: 0.126 gram/nm^3\n",
      "10 um: 0.153 gram/nm^3\n",
      "20 um: 0.149 gram/nm^3\n",
      "50 um: 0.141 gram/nm^3\n",
      "100 um: 0.136 gram/nm^3\n",
      "200 um: 0.117 gram/nm^3\n"
     ]
    }
   ],
   "source": [
    "fg_results = []\n",
    "for i in [\"0\", \"10\", \"20\", \"50\", \"100\", \"200\"]:\n",
    "    path = f\"../density_test/{i}\"\n",
    "    files = os.listdir(path)\n",
    "    files_amount = len(files)\n",
    "    density = 0\n",
    "    for file in files:\n",
    "        f_path = f\"{path}/{file}\"\n",
    "        density += calculate_fg_density(get_fg_counts_maps(f_path), calc_normalization_factor(f_path))\n",
    "    density = density/files_amount\n",
    "    fg_results.append(density)\n",
    "    print(f\"{i} um: {density:.3f} kd/nm^3\")"
   ]
  },
  {
   "cell_type": "code",
   "execution_count": 122,
   "metadata": {},
   "outputs": [
    {
     "name": "stdout",
     "output_type": "stream",
     "text": [
      "0.21 g/cm^3\n",
      "0.254 g/cm^3\n",
      "0.248 g/cm^3\n",
      "0.235 g/cm^3\n",
      "0.226 g/cm^3\n",
      "0.195 g/cm^3\n"
     ]
    }
   ],
   "source": [
    "# convert to gram \n",
    "KD_TO_GRAM = 1.6605402e-21\n",
    "NM3_TO_CM3 = 1e-21\n",
    "for i in fg_results:\n",
    "    print(f\"{(i * KD_TO_GRAM * (1/NM3_TO_CM3)):.3g} g/cm^3\")"
   ]
  },
  {
   "cell_type": "code",
   "execution_count": 136,
   "metadata": {},
   "outputs": [
    {
     "name": "stdout",
     "output_type": "stream",
     "text": [
      "0 um: \t 0.000 kd/nm^3 \t 0 g/cm^3\n",
      "10 um: \t 0.000 kd/nm^3 \t 0 g/cm^3\n",
      "20 um: \t 0.007 kd/nm^3 \t 0.0112 g/cm^3\n",
      "50 um: \t 0.000 kd/nm^3 \t 0 g/cm^3\n",
      "100 um: \t 0.034 kd/nm^3 \t 0.0568 g/cm^3\n",
      "200 um: \t 0.041 kd/nm^3 \t 0.068 g/cm^3\n"
     ]
    }
   ],
   "source": [
    "floater_results = []\n",
    "for i in [\"0\", \"10\", \"20\", \"50\", \"100\", \"200\"]:\n",
    "    path = f\"../density_test/{i}\"\n",
    "    files = os.listdir(path)\n",
    "    files_amount = len(files)\n",
    "    density = 0\n",
    "    for file in files:\n",
    "        f_path = f\"{path}/{file}\"\n",
    "        density += calculate_floater_density(get_floater_counts_maps(f_path)[0], calc_normalization_factor(f_path))\n",
    "    density = density/files_amount\n",
    "    floater_results.append(density)\n",
    "    print(f\"{i} um: \\t {density:.3f} kd/nm^3 \\t {(density * KD_TO_GRAM * (1/NM3_TO_CM3)):.3g} g/cm^3\")"
   ]
  },
  {
   "cell_type": "code",
   "execution_count": 133,
   "metadata": {},
   "outputs": [
    {
     "name": "stdout",
     "output_type": "stream",
     "text": [
      "0 g/cm^3\n",
      "0 g/cm^3\n",
      "0.0112 g/cm^3\n",
      "0 g/cm^3\n",
      "0.0568 g/cm^3\n",
      "0.068 g/cm^3\n"
     ]
    }
   ],
   "source": [
    "for i in floater_results:\n",
    "    print(f\"{(i * KD_TO_GRAM * (1/NM3_TO_CM3)):.3g} g/cm^3\")"
   ]
  }
 ],
 "metadata": {
  "kernelspec": {
   "display_name": "imp_conda",
   "language": "python",
   "name": "python3"
  },
  "language_info": {
   "codemirror_mode": {
    "name": "ipython",
    "version": 3
   },
   "file_extension": ".py",
   "mimetype": "text/x-python",
   "name": "python",
   "nbconvert_exporter": "python",
   "pygments_lexer": "ipython3",
   "version": "3.12.7"
  }
 },
 "nbformat": 4,
 "nbformat_minor": 2
}
