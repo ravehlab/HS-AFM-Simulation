{
 "cells": [
  {
   "cell_type": "code",
   "execution_count": null,
   "metadata": {},
   "outputs": [],
   "source": [
    "# Import dependencies\n",
    "sys.path.append('../src')\n",
    "import raster"
   ]
  },
  {
   "cell_type": "markdown",
   "metadata": {},
   "source": [
    "Steps:\n",
    "- Find a horizontal line\n",
    "- Determine the time in the simulation at which the line was taken (Can be calculated from x,y, and raster_i) (remember to add stabilization time)\n",
    "- Output non-rasterized images from (line_start_t - 5 to line_end_t + 5)\n",
    "- (Manual) Output chimera images matching with each non-rasterized image"
   ]
  },
  {
   "cell_type": "code",
   "execution_count": null,
   "metadata": {},
   "outputs": [],
   "source": [
    "raster_i = 0\n",
    "\n"
   ]
  }
 ],
 "metadata": {
  "kernelspec": {
   "display_name": "general_notebooks",
   "language": "python",
   "name": "python3"
  },
  "language_info": {
   "name": "python",
   "version": "3.10.15"
  }
 },
 "nbformat": 4,
 "nbformat_minor": 2
}
