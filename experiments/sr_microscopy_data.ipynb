{
 "cells": [
  {
   "cell_type": "code",
   "execution_count": 1,
   "metadata": {},
   "outputs": [],
   "source": [
    "# import dependencies\n",
    "import RMF\n",
    "import pickle"
   ]
  },
  {
   "cell_type": "code",
   "execution_count": 2,
   "metadata": {},
   "outputs": [],
   "source": [
    "# set parameters\n",
    "\n",
    "# The input RMF file.\n",
    "# input_rmf_path = \"/cs/usr/roi.eliasian/LabFolder/NpcTransportExperiment/HS-AFM-Dataset/dataset/mini_200uM_10ns/\"\n",
    "# input_rmf_path = \"/cs/usr/roi.eliasian/LabFolder/NpcTransportExperiment/HS-AFM-Dataset/dataset/mini_0uM_10ns/1/100000.movie.rmf\"\n",
    "\n",
    "# reference output pb file from which info e.g. fg nup types can be extracted\n",
    "ref_output_path = \"/cs/usr/roi.eliasian/LabFolder/NpcTransportExperiment/HS-AFM-Dataset/dataset/mini_0uM_10ns/1/100000.pb\""
   ]
  },
  {
   "cell_type": "code",
   "execution_count": 3,
   "metadata": {},
   "outputs": [],
   "source": [
    "def has_depth_with_site(root, i):\n",
    "    \"\"\" returns true if node subtree thru first child is at least i\n",
    "        levels, including the root node itself, and the lead is a site \"\"\"\n",
    "#  print root, i, len(root.get_children())\n",
    "    if (i==1) and root.get_name()==\"site\":\n",
    "        return True\n",
    "    c = root.get_children()\n",
    "    if len(c) == 0:\n",
    "        return False\n",
    "    return has_depth_with_site(c[0], i-1)\n",
    "\n",
    "def _add_nodes(node, tf, type_prefixes, depth=0):\n",
    "    '''\n",
    "    node - rmf node to scan\n",
    "    tf - typed factory\n",
    "    type_prefixes - list of full type prefixes (e.g. \"Nup1\" for \"Nup1N\")\n",
    "\n",
    "    adds only nodes whose type name begins with any of the specified type prefixes\n",
    "    '''\n",
    "    children = node.get_children()\n",
    "    ret = []\n",
    "    #print \"inspecting\", node.get_name()\n",
    "    if len(children)==0:\n",
    "        return ret\n",
    "    if has_depth_with_site(node, 3) and tf.get_is(children[0]):\n",
    "        child_type = tf.get(children[0]).get_type_name()\n",
    "        if any([child_type.startswith(tp) for tp in type_prefixes]):\n",
    "            ret.append(children)\n",
    "    for c in children:\n",
    "        ret += _add_nodes(c, tf,  type_prefixes, depth+1)\n",
    "    return ret\n",
    "\n",
    "\n",
    "def load_data(input_rmf_path, min_z_angstrom):\n",
    "    x_coords = []\n",
    "    y_coords = []\n",
    "    z_coords = []\n",
    "\n",
    "    for sim_i in range(10, 60):\n",
    "        for rmf_i in range(50000, 150000, 50000):\n",
    "            in_fh = RMF.open_rmf_file_read_only(f\"{input_rmf_path}/{sim_i}/{rmf_i}.pb.final.rmf\")\n",
    "            rff = RMF.ReferenceFrameFactory(in_fh)\n",
    "            tf = RMF.TypedFactory(in_fh)\n",
    "            fg_types = [f\"fg{x}\" for x in range(32)]\n",
    "\n",
    "            # load data\n",
    "            type2chains={}\n",
    "            for i, fg_type in enumerate(fg_types):\n",
    "                type2chains[fg_type] = _add_nodes(in_fh.get_root_node(), tf, [fg_type])\n",
    "                \n",
    "            # set frame\n",
    "            frames = in_fh.get_frames()\n",
    "            in_fh.set_current_frame(frames[0])\n",
    "\n",
    "            # read data\n",
    "            for fg_i in range(32):\n",
    "                for i in range(15, 16):\n",
    "                    coord = rff.get(type2chains[f\"fg{fg_i}\"][0][i]).get_translation()\n",
    "                    if coord[2] > min_z_angstrom:\n",
    "                        x_coords.append(coord[0] / 10)\n",
    "                        y_coords.append(coord[1] / 10)\n",
    "                        z_coords.append(coord[2] / 10)\n",
    "    return x_coords, y_coords, z_coords\n",
    "\n",
    "\n",
    "    "
   ]
  },
  {
   "cell_type": "code",
   "execution_count": 5,
   "metadata": {},
   "outputs": [],
   "source": [
    "x_coords, y_coords, z_coords = load_data(\"/cs/usr/roi.eliasian/LabFolder/NpcTransportExperiment/HS-AFM-Dataset/dataset/mini_200uM_10ns/\", 0)\n",
    "# x_coords, y_coords, z_coords = load_data(\"/cs/usr/roi.eliasian/LabFolder/NpcTransportExperiment/HS-AFM-Dataset/dataset/mini_0uM_10ns/\")\n",
    "with open(\"sr_microscopy_data.pickle\", \"wb\") as f:\n",
    "    pickle.dump([x_coords, y_coords, z_coords], f)"
   ]
  }
 ],
 "metadata": {
  "kernelspec": {
   "display_name": "imp_conda",
   "language": "python",
   "name": "python3"
  },
  "language_info": {
   "codemirror_mode": {
    "name": "ipython",
    "version": 3
   },
   "file_extension": ".py",
   "mimetype": "text/x-python",
   "name": "python",
   "nbconvert_exporter": "python",
   "pygments_lexer": "ipython3",
   "version": "3.12.7"
  }
 },
 "nbformat": 4,
 "nbformat_minor": 2
}
