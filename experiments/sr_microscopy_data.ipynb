{
 "cells": [
  {
   "cell_type": "code",
   "execution_count": 1,
   "metadata": {},
   "outputs": [],
   "source": [
    "# import dependencies\n",
    "import RMF\n",
    "import pickle"
   ]
  },
  {
   "cell_type": "code",
   "execution_count": 41,
   "metadata": {},
   "outputs": [],
   "source": [
    "def has_depth_with_site(root, i):\n",
    "    \"\"\" returns true if node subtree thru first child is at least i\n",
    "        levels, including the root node itself, and the lead is a site \"\"\"\n",
    "#  print root, i, len(root.get_children())\n",
    "    if (i==1) and root.get_name()==\"site\":\n",
    "        return True\n",
    "    c = root.get_children()\n",
    "    if len(c) == 0:\n",
    "        return False\n",
    "    return has_depth_with_site(c[0], i-1)\n",
    "\n",
    "def _add_nodes(node, tf, type_prefixes, depth=0):\n",
    "    '''\n",
    "    node - rmf node to scan\n",
    "    tf - typed factory\n",
    "    type_prefixes - list of full type prefixes (e.g. \"Nup1\" for \"Nup1N\")\n",
    "\n",
    "    adds only nodes whose type name begins with any of the specified type prefixes\n",
    "    '''\n",
    "    children = node.get_children()\n",
    "    ret = []\n",
    "    #print \"inspecting\", node.get_name()\n",
    "    if len(children)==0:\n",
    "        return ret\n",
    "    if has_depth_with_site(node, 3) and tf.get_is(children[0]):\n",
    "        child_type = tf.get(children[0]).get_type_name()\n",
    "        if any([child_type.startswith(tp) for tp in type_prefixes]):\n",
    "            ret.append(children)\n",
    "    for c in children:\n",
    "        ret += _add_nodes(c, tf,  type_prefixes, depth+1)\n",
    "    return ret\n",
    "\n",
    "\n",
    "def load_data(x_coords, y_coords, z_coords, input_rmf_path, min_z_angstrom, rmf_range, is_full_npc=False):\n",
    "    for rmf_i in rmf_range:\n",
    "        in_fh = RMF.open_rmf_file_read_only(f\"{input_rmf_path}/{rmf_i}.pb.final.rmf\")\n",
    "        rff = RMF.ReferenceFrameFactory(in_fh)\n",
    "        tf = RMF.TypedFactory(in_fh)\n",
    "        \n",
    "        if is_full_npc:\n",
    "            fg_types = [\"Nsp1\"] # \"Nup100\", \"Nup116\", \"Nup159\", \"Nup49\", \"Nup57\", \"Nup145\", \"Nup1\", \"Nup60\", \"Nup2\"]\n",
    "        else:\n",
    "            fg_types = [f\"fg{x}\" for x in range(32)]\n",
    "\n",
    "        # load data\n",
    "        type2chains={}\n",
    "        for i, fg_type in enumerate(fg_types):\n",
    "            type2chains[fg_type] = _add_nodes(in_fh.get_root_node(), tf, [fg_type])\n",
    "            \n",
    "        # set frame\n",
    "        frames = in_fh.get_frames()\n",
    "        in_fh.set_current_frame(frames[0])\n",
    "\n",
    "        # read data\n",
    "        for fg_type in fg_types:\n",
    "            coord = rff.get(type2chains[fg_type][0][-1]).get_translation() # Get location of terminal bead \n",
    "            if coord[2] > min_z_angstrom:\n",
    "                x_coords.append(coord[0] / 10)\n",
    "                y_coords.append(coord[1] / 10)\n",
    "                z_coords.append(coord[2] / 10)\n",
    "    return\n",
    "\n",
    "def load_data_multi_sim(input_rmf_path, min_z_angstrom, sim_range, rmf_range, is_full_npc=False):\n",
    "    x_coords = []\n",
    "    y_coords = []\n",
    "    z_coords = []\n",
    "    \n",
    "    if sim_range is None: \n",
    "        load_data(x_coords, y_coords, z_coords, input_rmf_path, min_z_angstrom, rmf_range, is_full_npc)\n",
    "    else:\n",
    "        for sim_i in sim_range:\n",
    "            # print(sim_i)\n",
    "            load_data(x_coords, y_coords, z_coords, f\"{input_rmf_path}/{sim_i}/\", min_z_angstrom, rmf_range, is_full_npc)\n",
    "            # print(len(x_coords))\n",
    "    return x_coords, y_coords, z_coords\n",
    "    \n",
    "\n",
    "def load_and_save_data(in_path, out_path, sim_range, rmf_range, is_full_npc=False):\n",
    "    x_coords, y_coords, z_coords = load_data_multi_sim(in_path, 0, sim_range, rmf_range, is_full_npc)\n",
    "    with open(out_path, \"wb\") as f:\n",
    "        pickle.dump([x_coords, y_coords, z_coords], f)\n",
    "    "
   ]
  },
  {
   "cell_type": "code",
   "execution_count": 5,
   "metadata": {},
   "outputs": [],
   "source": [
    "x_coords, y_coords, z_coords = load_data(\"/cs/usr/roi.eliasian/LabFolder/NpcTransportExperiment/HS-AFM-Dataset/dataset/mini_200uM_10ns/\", 0)\n",
    "# x_coords, y_coords, z_coords = load_data(\"/cs/usr/roi.eliasian/LabFolder/NpcTransportExperiment/HS-AFM-Dataset/dataset/mini_0uM_10ns/\")\n",
    "with open(\"sr_microscopy_data.pickle\", \"wb\") as f:\n",
    "    pickle.dump([x_coords, y_coords, z_coords], f)"
   ]
  },
  {
   "cell_type": "code",
   "execution_count": null,
   "metadata": {},
   "outputs": [],
   "source": [
    "in_path_prefix=\"/cs/usr/roi.eliasian/LabFolder/NpcTransportExperiment/HS-AFM-Dataset/dataset/multi_radii/\"\n",
    "sim_range = [1,2,4,5,6,7,8,9,10] #range(1, 11)\n",
    "rmf_range = range(100000, 150000, 20000)\n",
    "load_and_save_data(f\"{in_path_prefix}/mini_r185/\", \"r185_sr.pickle\", sim_range, rmf_range)\n",
    "load_and_save_data(f\"{in_path_prefix}/mini_r220/\", \"r220_sr.pickle\", sim_range, rmf_range)\n",
    "load_and_save_data(f\"{in_path_prefix}/mini_r255/\", \"r255_sr.pickle\", sim_range, rmf_range)\n",
    "load_and_save_data(f\"{in_path_prefix}/mini_r295/\", \"r295_sr.pickle\", sim_range, rmf_range)"
   ]
  },
  {
   "cell_type": "code",
   "execution_count": 42,
   "metadata": {},
   "outputs": [],
   "source": [
    "in_path_prefix=\"/cs/usr/roi.eliasian/LabFolder/NpcTransportExperiment/HS-AFM-Dataset/dataset/\"\n",
    "sim_range = range(1, 11)\n",
    "rmf_range = range(100000, 150000, 20000)\n",
    "load_and_save_data(f\"{in_path_prefix}/mini_200uM_100ns\", \"r185_ntr_sr.pickle\", sim_range, rmf_range)"
   ]
  },
  {
   "cell_type": "code",
   "execution_count": 19,
   "metadata": {},
   "outputs": [],
   "source": [
    "in_path=\"/cs/usr/roi.eliasian/LabFolder/NpcTransportExperiment/HS-AFM-Dataset/dataset/\"\n",
    "sim_range = None\n",
    "rmf_range = range(40000, 100000, 20000)\n",
    "load_and_save_data(f\"{in_path_prefix}/full_0uM_1ns/2\", \"full_sr.pickle\", sim_range, rmf_range, is_full_npc=True)"
   ]
  }
 ],
 "metadata": {
  "kernelspec": {
   "display_name": "imp_conda",
   "language": "python",
   "name": "python3"
  },
  "language_info": {
   "codemirror_mode": {
    "name": "ipython",
    "version": 3
   },
   "file_extension": ".py",
   "mimetype": "text/x-python",
   "name": "python",
   "nbconvert_exporter": "python",
   "pygments_lexer": "ipython3",
   "version": "3.12.7"
  }
 },
 "nbformat": 4,
 "nbformat_minor": 2
}
